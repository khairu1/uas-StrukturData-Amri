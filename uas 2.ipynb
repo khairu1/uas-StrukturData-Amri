{
 "cells": [
  {
   "cell_type": "code",
   "execution_count": null,
   "id": "7744c78c",
   "metadata": {},
   "outputs": [
    {
     "name": "stdout",
     "output_type": "stream",
     "text": [
      "Masukkan golongan (A/B/C/D): hty\n",
      "Masukkan jam kerja per bulan: 766767\n",
      "Masukan tidak valid. Silakan coba lagi.\n",
      "Masukkan golongan (A/B/C/D): 89\n",
      "Masukkan jam kerja per bulan: 90\n",
      "Masukan tidak valid. Silakan coba lagi.\n"
     ]
    }
   ],
   "source": [
    "def hitung_gaji(golongan, jam_kerja):\n",
    "    gaji_pokok = 0\n",
    "\n",
    "    if golongan == 'A':\n",
    "        gaji_pokok = 10000000\n",
    "    elif golongan == 'B':\n",
    "        gaji_pokok = 7000000\n",
    "    elif golongan == 'C':\n",
    "        gaji_pokok = 5000000\n",
    "    elif golongan == 'D':\n",
    "        gaji_pokok = 3000000\n",
    "    else:\n",
    "        return \"Golongan tidak valid.\"\n",
    "\n",
    "    if jam_kerja > 48:\n",
    "        gaji_total = gaji_pokok + (jam_kerja - 40) * (gaji_pokok / 40) * 1.5\n",
    "    else:\n",
    "        gaji_total = gaji_pokok\n",
    "\n",
    "    return gaji_total\n",
    "\n",
    "\n",
    "while True:\n",
    "    golongan = input(\"Masukkan golongan (A/B/C/D): \")\n",
    "    jam_kerja = int(input(\"Masukkan jam kerja per bulan: \"))\n",
    "\n",
    "    if golongan in ['A', 'B', 'C', 'D'] and jam_kerja >= 0:\n",
    "        gaji = hitung_gaji(golongan, jam_kerja)\n",
    "        print(f\"Gaji total: Rp. {gaji:,.2f}\")\n",
    "        break\n",
    "    else:\n",
    "        print(\"Masukan tidak valid. Silakan coba lagi.\")\n",
    "\n"
   ]
  },
  {
   "cell_type": "code",
   "execution_count": null,
   "id": "c38389eb",
   "metadata": {},
   "outputs": [],
   "source": []
  }
 ],
 "metadata": {
  "kernelspec": {
   "display_name": "Python 3 (ipykernel)",
   "language": "python",
   "name": "python3"
  },
  "language_info": {
   "codemirror_mode": {
    "name": "ipython",
    "version": 3
   },
   "file_extension": ".py",
   "mimetype": "text/x-python",
   "name": "python",
   "nbconvert_exporter": "python",
   "pygments_lexer": "ipython3",
   "version": "3.9.12"
  }
 },
 "nbformat": 4,
 "nbformat_minor": 5
}
