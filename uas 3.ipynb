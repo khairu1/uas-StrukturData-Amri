{
 "cells": [
  {
   "cell_type": "code",
   "execution_count": 1,
   "id": "ca6d3050",
   "metadata": {},
   "outputs": [
    {
     "name": "stdout",
     "output_type": "stream",
     "text": [
      "['a', 'b', 'c', 'e', 'f', 'g', 'h', 'i', 'j']\n"
     ]
    }
   ],
   "source": [
    "class Graph:\n",
    "    def __init__(self, gdict=None):\n",
    "        if gdict is None:\n",
    "            gdict = {}\n",
    "        self.gdict = gdict\n",
    "    \n",
    "    def addEdge(self, vertex, edge):\n",
    "        self.gdict[vertex] = edge\n",
    "    \n",
    "    def checkRoute(self, startNode, endNode):\n",
    "        visited = []\n",
    "        queue = [startNode]\n",
    "        path = []\n",
    "        if startNode == endNode:\n",
    "            return [startNode]\n",
    "        while queue:\n",
    "            deVertex = queue.pop(0)\n",
    "            if deVertex not in visited:\n",
    "                visited.append(deVertex)\n",
    "            else:\n",
    "                continue\n",
    "            if deVertex == endNode:\n",
    "                path.append(deVertex)\n",
    "                return path\n",
    "            if self.gdict[deVertex]:\n",
    "                path.append(deVertex)\n",
    "                adjacentVertices = self.gdict[deVertex]\n",
    "                for adjacentVertex in adjacentVertices:\n",
    "                    queue.append(adjacentVertex)\n",
    "        return None\n",
    "\n",
    "\n",
    "customDict = {\n",
    "    'a': ['b', 'c'],\n",
    "    'b': ['d'],\n",
    "    'c': ['e'],\n",
    "    'd': [],\n",
    "    'e': ['f'],\n",
    "    'f': ['g'],\n",
    "    'g': ['h'],\n",
    "    'h': ['i'],\n",
    "    'i': ['j'],\n",
    "    'j': []\n",
    "}\n",
    "\n",
    "g = Graph(customDict)\n",
    "print(g.checkRoute('a', 'j'))"
   ]
  },
  {
   "cell_type": "code",
   "execution_count": null,
   "id": "ed41561e",
   "metadata": {},
   "outputs": [],
   "source": []
  }
 ],
 "metadata": {
  "kernelspec": {
   "display_name": "Python 3 (ipykernel)",
   "language": "python",
   "name": "python3"
  },
  "language_info": {
   "codemirror_mode": {
    "name": "ipython",
    "version": 3
   },
   "file_extension": ".py",
   "mimetype": "text/x-python",
   "name": "python",
   "nbconvert_exporter": "python",
   "pygments_lexer": "ipython3",
   "version": "3.9.12"
  }
 },
 "nbformat": 4,
 "nbformat_minor": 5
}
